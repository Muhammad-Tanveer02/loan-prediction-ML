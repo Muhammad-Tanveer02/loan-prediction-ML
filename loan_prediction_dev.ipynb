{
 "cells": [
  {
   "cell_type": "code",
   "execution_count": null,
   "id": "0e3f71fc",
   "metadata": {},
   "outputs": [],
   "source": [
    "import pandas as pd\n",
    "import seaborn as sns\n",
    "from sklearn.model_selection import train_test_split\n",
    "from sklearn.linear_model import LinearRegression\n",
    "from sklearn.tree import DecisionTreeClassifier\n",
    "from sklearn import svm\n",
    "import matplotlib.pyplot as plt\n",
    "import sklearn.metrics as metrics\n",
    "from sklearn.metrics import classification_report, accuracy_score\n",
    "import numpy as np\n",
    "import pickle\n",
    "\n",
    "# import data and remove ID column\n",
    "df = pd.read_csv('loan_prediction_dataset.csv')\n",
    "df.drop('Loan_ID', axis=1, inplace=True)\n",
    "df.head(n=614)"
   ]
  },
  {
   "cell_type": "code",
   "execution_count": null,
   "id": "c804ec07",
   "metadata": {},
   "outputs": [],
   "source": [
    "null_cols = ['Gender', 'Married','Dependents', 'Self_Employed', 'LoanAmount', 'Loan_Amount_Term', 'Credit_History']\n",
    "\n",
    "# Each null value is replaced by the column's mode.\n",
    "for col in null_cols:\n",
    "    df[col] = df[col].fillna(df[col].dropna().mode().values[0])  \n",
    "    \n",
    "#collecting all numeric columns from train dataset\n",
    "num = df.select_dtypes('number').columns.to_list()\n",
    "df_num = df[num]\n",
    "\n",
    "#collecting all catergorical value columns from train dataset\n",
    "cat = df.select_dtypes('object').columns.to_list()\n",
    "df_cat = df[cat]"
   ]
  },
  {
   "cell_type": "code",
   "execution_count": null,
   "id": "5e1ed7c5",
   "metadata": {},
   "outputs": [],
   "source": [
    "# convert categorical to numeric\n",
    "\n",
    "to_convert = {'Male': 1, 'Female': 0, \n",
    "          'Yes': 1, 'No': 0,\n",
    "          'Graduate': 1, 'Not Graduate': 0,\n",
    "          'Urban': 1, 'Semiurban': 2,'Rural': 3,\n",
    "          'Y': 1, 'N': 0,\n",
    "          '0':0, '1':1, '2':2, '3+': 3}\n",
    "\n",
    "def convert_to_numeric(word):\n",
    "    return to_convert[word]\n",
    "\n",
    "df = df.applymap(lambda x: convert_to_numeric(x) if x in to_convert else x)\n",
    "df.head(n=614)"
   ]
  },
  {
   "cell_type": "code",
   "execution_count": null,
   "id": "a72a6aa3",
   "metadata": {},
   "outputs": [],
   "source": [
    "y = df[\"Loan_Status\"]\n",
    "X = df.drop([\"Loan_Status\"], axis=1)\n",
    "\n",
    "X_train, X_test, y_train, y_test = train_test_split(X, y, test_size = 0.2)"
   ]
  },
  {
   "cell_type": "code",
   "execution_count": null,
   "id": "d894abb8",
   "metadata": {},
   "outputs": [],
   "source": [
    "model = DecisionTreeClassifier()\n",
    "model.fit(X_train, y_train)\n",
    "\n",
    "y_pred = model.predict(X_test)\n",
    "\n",
    "# Accuracy score (remove for prod)\n",
    "print(accuracy_score(y_pred,y_test))"
   ]
  },
  {
   "cell_type": "code",
   "execution_count": null,
   "id": "04355480",
   "metadata": {},
   "outputs": [],
   "source": [
    "# Save model to pkl\n",
    "pickle.dump(model, open(\"model.pkl\", \"wb\"))\n",
    "\n",
    "# Load model\n",
    "model = pickle.load(open(\"model.pkl\", \"rb\"))\n",
    "print(model.predict(X_test))"
   ]
  }
 ],
 "metadata": {
  "kernelspec": {
   "display_name": "Python 3 (ipykernel)",
   "language": "python",
   "name": "python3"
  },
  "language_info": {
   "codemirror_mode": {
    "name": "ipython",
    "version": 3
   },
   "file_extension": ".py",
   "mimetype": "text/x-python",
   "name": "python",
   "nbconvert_exporter": "python",
   "pygments_lexer": "ipython3",
   "version": "3.8.3"
  }
 },
 "nbformat": 4,
 "nbformat_minor": 5
}
